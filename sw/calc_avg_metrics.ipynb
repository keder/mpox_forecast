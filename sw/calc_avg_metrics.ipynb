{
 "cells": [
  {
   "cell_type": "code",
   "execution_count": 1,
   "metadata": {},
   "outputs": [],
   "source": [
    "import os.path\n",
    "import os\n",
    "import re\n",
    "import pandas\n",
    "import numpy as np"
   ]
  },
  {
   "cell_type": "markdown",
   "metadata": {},
   "source": [
    "First we need to locate all relevant files"
   ]
  },
  {
   "cell_type": "code",
   "execution_count": 10,
   "metadata": {},
   "outputs": [],
   "source": [
    "input_path = '../sw/output'\n",
    "\n",
    "# Define the regex pattern to match filenames\n",
    "pattern = re.compile(r'^performance')\n",
    "\n",
    "# Initialize an empty list to store matched files\n",
    "matched_files = []\n",
    "\n",
    "# Iterate through files in the directory\n",
    "for filename in os.listdir(input_path):\n",
    "    # Check if the filename matches the regex pattern\n",
    "    if pattern.search(filename):\n",
    "        # If it matches, add to the list\n",
    "        matched_files.append(filename)"
   ]
  },
  {
   "cell_type": "code",
   "execution_count": 11,
   "metadata": {},
   "outputs": [
    {
     "name": "stdout",
     "output_type": "stream",
     "text": [
      "784\n",
      "['performance-forecasting-Ensemble-onsetfixed-0-typedecline-2-flag1-1-method-0-dist-0-horizon-1-weight_type--1-weekly-mpox-cases-China-area-1-05-18-2023.csv', 'performance-forecasting-Ensemble-onsetfixed-0-typedecline-2-flag1-1-method-0-dist-0-horizon-1-weight_type--1-weekly-mpox-cases-China-area-1-05-25-2023.csv', 'performance-forecasting-Ensemble-onsetfixed-0-typedecline-2-flag1-1-method-0-dist-0-horizon-1-weight_type--1-weekly-mpox-cases-China-area-1-06-01-2023.csv', 'performance-forecasting-Ensemble-onsetfixed-0-typedecline-2-flag1-1-method-0-dist-0-horizon-1-weight_type--1-weekly-mpox-cases-China-area-1-06-08-2023.csv', 'performance-forecasting-Ensemble-onsetfixed-0-typedecline-2-flag1-1-method-0-dist-0-horizon-1-weight_type--1-weekly-mpox-cases-China-area-1-06-15-2023.csv']\n"
     ]
    }
   ],
   "source": [
    "print(len(matched_files))\n",
    "print(matched_files[:5])"
   ]
  },
  {
   "cell_type": "markdown",
   "metadata": {},
   "source": [
    "Now we accumulate data from files"
   ]
  },
  {
   "cell_type": "code",
   "execution_count": 12,
   "metadata": {},
   "outputs": [],
   "source": [
    "\n",
    "df = None\n",
    "model_no_col = \"mod_num\"\n",
    "model_prefix = \"SW-\"\n",
    "\n",
    "for file in matched_files:\n",
    "    split_fn = file.split(\".\")\n",
    "    name, extension = split_fn[0], split_fn[-1]\n",
    "    name_elems = name.split(\"-\")\n",
    "    model = name_elems[2]\n",
    "    horizon = name_elems[14]\n",
    "    location = name_elems[-6]\n",
    "    date = \"-\".join(name_elems[-3:])\n",
    "    data = pandas.read_csv(os.path.join(input_path, file))\n",
    "    data[\"model\"] = model_prefix + model\n",
    "    data[\"horizon\"] = horizon\n",
    "    data[\"date\"] = date\n",
    "    data[\"location\"] = location\n",
    "    data.columns.values[0] = model_no_col\n",
    "    if df is None:\n",
    "        df = data\n",
    "    else:\n",
    "        df = pandas.concat([df, data], ignore_index=True)"
   ]
  },
  {
   "cell_type": "code",
   "execution_count": 5,
   "metadata": {},
   "outputs": [
    {
     "data": {
      "text/html": [
       "<div>\n",
       "<style scoped>\n",
       "    .dataframe tbody tr th:only-of-type {\n",
       "        vertical-align: middle;\n",
       "    }\n",
       "\n",
       "    .dataframe tbody tr th {\n",
       "        vertical-align: top;\n",
       "    }\n",
       "\n",
       "    .dataframe thead th {\n",
       "        text-align: right;\n",
       "    }\n",
       "</style>\n",
       "<table border=\"1\" class=\"dataframe\">\n",
       "  <thead>\n",
       "    <tr style=\"text-align: right;\">\n",
       "      <th></th>\n",
       "      <th>mod_num</th>\n",
       "      <th>MAE</th>\n",
       "      <th>MSE</th>\n",
       "      <th>Coverage 95%PI</th>\n",
       "      <th>WIS</th>\n",
       "      <th>model</th>\n",
       "      <th>horizon</th>\n",
       "      <th>date</th>\n",
       "      <th>location</th>\n",
       "      <th>AICc</th>\n",
       "      <th>RelativeLikelihood</th>\n",
       "    </tr>\n",
       "  </thead>\n",
       "  <tbody>\n",
       "    <tr>\n",
       "      <th>0</th>\n",
       "      <td>2</td>\n",
       "      <td>1.377633</td>\n",
       "      <td>1.897873</td>\n",
       "      <td>100.0</td>\n",
       "      <td>1.483023</td>\n",
       "      <td>SW-Ensemble</td>\n",
       "      <td>0</td>\n",
       "      <td>05-18-2023</td>\n",
       "      <td>China</td>\n",
       "      <td>NaN</td>\n",
       "      <td>NaN</td>\n",
       "    </tr>\n",
       "    <tr>\n",
       "      <th>1</th>\n",
       "      <td>3</td>\n",
       "      <td>1.862628</td>\n",
       "      <td>3.469383</td>\n",
       "      <td>100.0</td>\n",
       "      <td>1.609873</td>\n",
       "      <td>SW-Ensemble</td>\n",
       "      <td>0</td>\n",
       "      <td>05-18-2023</td>\n",
       "      <td>China</td>\n",
       "      <td>NaN</td>\n",
       "      <td>NaN</td>\n",
       "    </tr>\n",
       "    <tr>\n",
       "      <th>2</th>\n",
       "      <td>4</td>\n",
       "      <td>1.920491</td>\n",
       "      <td>3.688287</td>\n",
       "      <td>100.0</td>\n",
       "      <td>1.566943</td>\n",
       "      <td>SW-Ensemble</td>\n",
       "      <td>0</td>\n",
       "      <td>05-18-2023</td>\n",
       "      <td>China</td>\n",
       "      <td>NaN</td>\n",
       "      <td>NaN</td>\n",
       "    </tr>\n",
       "    <tr>\n",
       "      <th>3</th>\n",
       "      <td>2</td>\n",
       "      <td>2.498195</td>\n",
       "      <td>6.240980</td>\n",
       "      <td>100.0</td>\n",
       "      <td>1.602979</td>\n",
       "      <td>SW-Ensemble</td>\n",
       "      <td>0</td>\n",
       "      <td>05-25-2023</td>\n",
       "      <td>China</td>\n",
       "      <td>NaN</td>\n",
       "      <td>NaN</td>\n",
       "    </tr>\n",
       "    <tr>\n",
       "      <th>4</th>\n",
       "      <td>3</td>\n",
       "      <td>0.266357</td>\n",
       "      <td>0.070946</td>\n",
       "      <td>100.0</td>\n",
       "      <td>1.528381</td>\n",
       "      <td>SW-Ensemble</td>\n",
       "      <td>0</td>\n",
       "      <td>05-25-2023</td>\n",
       "      <td>China</td>\n",
       "      <td>NaN</td>\n",
       "      <td>NaN</td>\n",
       "    </tr>\n",
       "  </tbody>\n",
       "</table>\n",
       "</div>"
      ],
      "text/plain": [
       "   mod_num       MAE       MSE  Coverage 95%PI       WIS        model horizon  \\\n",
       "0        2  1.377633  1.897873           100.0  1.483023  SW-Ensemble       0   \n",
       "1        3  1.862628  3.469383           100.0  1.609873  SW-Ensemble       0   \n",
       "2        4  1.920491  3.688287           100.0  1.566943  SW-Ensemble       0   \n",
       "3        2  2.498195  6.240980           100.0  1.602979  SW-Ensemble       0   \n",
       "4        3  0.266357  0.070946           100.0  1.528381  SW-Ensemble       0   \n",
       "\n",
       "         date location  AICc  RelativeLikelihood  \n",
       "0  05-18-2023    China   NaN                 NaN  \n",
       "1  05-18-2023    China   NaN                 NaN  \n",
       "2  05-18-2023    China   NaN                 NaN  \n",
       "3  05-25-2023    China   NaN                 NaN  \n",
       "4  05-25-2023    China   NaN                 NaN  "
      ]
     },
     "execution_count": 5,
     "metadata": {},
     "output_type": "execute_result"
    }
   ],
   "source": [
    "df.head()"
   ]
  },
  {
   "cell_type": "code",
   "execution_count": 6,
   "metadata": {},
   "outputs": [
    {
     "data": {
      "text/html": [
       "<div>\n",
       "<style scoped>\n",
       "    .dataframe tbody tr th:only-of-type {\n",
       "        vertical-align: middle;\n",
       "    }\n",
       "\n",
       "    .dataframe tbody tr th {\n",
       "        vertical-align: top;\n",
       "    }\n",
       "\n",
       "    .dataframe thead th {\n",
       "        text-align: right;\n",
       "    }\n",
       "</style>\n",
       "<table border=\"1\" class=\"dataframe\">\n",
       "  <thead>\n",
       "    <tr style=\"text-align: right;\">\n",
       "      <th></th>\n",
       "      <th>mod_num</th>\n",
       "      <th>MAE</th>\n",
       "      <th>MSE</th>\n",
       "      <th>Coverage 95%PI</th>\n",
       "      <th>WIS</th>\n",
       "      <th>model</th>\n",
       "      <th>horizon</th>\n",
       "      <th>date</th>\n",
       "      <th>location</th>\n",
       "      <th>AICc</th>\n",
       "      <th>RelativeLikelihood</th>\n",
       "    </tr>\n",
       "  </thead>\n",
       "  <tbody>\n",
       "  </tbody>\n",
       "</table>\n",
       "</div>"
      ],
      "text/plain": [
       "Empty DataFrame\n",
       "Columns: [mod_num, MAE, MSE, Coverage 95%PI, WIS, model, horizon, date, location, AICc, RelativeLikelihood]\n",
       "Index: []"
      ]
     },
     "execution_count": 6,
     "metadata": {},
     "output_type": "execute_result"
    }
   ],
   "source": [
    "df[df[\"MAE\"]>1000]"
   ]
  },
  {
   "cell_type": "markdown",
   "metadata": {},
   "source": [
    "Now calculate averages for each model"
   ]
  },
  {
   "cell_type": "code",
   "execution_count": 13,
   "metadata": {},
   "outputs": [],
   "source": [
    "summary = df.groupby(['model', model_no_col, \"location\", \"horizon\"])[[\"MAE\", \"MSE\", \"Coverage 95%PI\", \"WIS\"]].mean().reset_index()\n",
    "summary[\"model\"] = summary.apply(lambda row: f\"{row['model']}({row['mod_num']})\", axis=1)\n",
    "summary = summary[['model', \"horizon\", \"location\", \"MSE\", \"MAE\", \"Coverage 95%PI\", \"WIS\"]]\n",
    "summary[\"WIS\"] = np.log10(summary[\"WIS\"])"
   ]
  },
  {
   "cell_type": "code",
   "execution_count": 14,
   "metadata": {},
   "outputs": [
    {
     "data": {
      "text/html": [
       "<div>\n",
       "<style scoped>\n",
       "    .dataframe tbody tr th:only-of-type {\n",
       "        vertical-align: middle;\n",
       "    }\n",
       "\n",
       "    .dataframe tbody tr th {\n",
       "        vertical-align: top;\n",
       "    }\n",
       "\n",
       "    .dataframe thead th {\n",
       "        text-align: right;\n",
       "    }\n",
       "</style>\n",
       "<table border=\"1\" class=\"dataframe\">\n",
       "  <thead>\n",
       "    <tr style=\"text-align: right;\">\n",
       "      <th></th>\n",
       "      <th>model</th>\n",
       "      <th>horizon</th>\n",
       "      <th>location</th>\n",
       "      <th>MSE</th>\n",
       "      <th>MAE</th>\n",
       "      <th>Coverage 95%PI</th>\n",
       "      <th>WIS</th>\n",
       "    </tr>\n",
       "  </thead>\n",
       "  <tbody>\n",
       "    <tr>\n",
       "      <th>0</th>\n",
       "      <td>SW-Ensemble(2)</td>\n",
       "      <td>1</td>\n",
       "      <td>China</td>\n",
       "      <td>238.931138</td>\n",
       "      <td>10.868420</td>\n",
       "      <td>93.548387</td>\n",
       "      <td>0.915620</td>\n",
       "    </tr>\n",
       "    <tr>\n",
       "      <th>1</th>\n",
       "      <td>SW-Ensemble(2)</td>\n",
       "      <td>2</td>\n",
       "      <td>China</td>\n",
       "      <td>538.985826</td>\n",
       "      <td>15.309923</td>\n",
       "      <td>91.666667</td>\n",
       "      <td>1.039561</td>\n",
       "    </tr>\n",
       "    <tr>\n",
       "      <th>2</th>\n",
       "      <td>SW-Ensemble(2)</td>\n",
       "      <td>3</td>\n",
       "      <td>China</td>\n",
       "      <td>965.418706</td>\n",
       "      <td>19.632138</td>\n",
       "      <td>86.206897</td>\n",
       "      <td>1.149118</td>\n",
       "    </tr>\n",
       "    <tr>\n",
       "      <th>3</th>\n",
       "      <td>SW-Ensemble(2)</td>\n",
       "      <td>4</td>\n",
       "      <td>China</td>\n",
       "      <td>1795.273128</td>\n",
       "      <td>25.107240</td>\n",
       "      <td>85.714286</td>\n",
       "      <td>1.242897</td>\n",
       "    </tr>\n",
       "    <tr>\n",
       "      <th>4</th>\n",
       "      <td>SW-Ensemble(2)</td>\n",
       "      <td>1</td>\n",
       "      <td>Japan</td>\n",
       "      <td>2.138416</td>\n",
       "      <td>1.066827</td>\n",
       "      <td>100.000000</td>\n",
       "      <td>-0.110245</td>\n",
       "    </tr>\n",
       "  </tbody>\n",
       "</table>\n",
       "</div>"
      ],
      "text/plain": [
       "            model horizon location          MSE        MAE  Coverage 95%PI  \\\n",
       "0  SW-Ensemble(2)       1    China   238.931138  10.868420       93.548387   \n",
       "1  SW-Ensemble(2)       2    China   538.985826  15.309923       91.666667   \n",
       "2  SW-Ensemble(2)       3    China   965.418706  19.632138       86.206897   \n",
       "3  SW-Ensemble(2)       4    China  1795.273128  25.107240       85.714286   \n",
       "4  SW-Ensemble(2)       1    Japan     2.138416   1.066827      100.000000   \n",
       "\n",
       "        WIS  \n",
       "0  0.915620  \n",
       "1  1.039561  \n",
       "2  1.149118  \n",
       "3  1.242897  \n",
       "4 -0.110245  "
      ]
     },
     "execution_count": 14,
     "metadata": {},
     "output_type": "execute_result"
    }
   ],
   "source": [
    "summary.head()\n",
    "# summary[\"horizon\"].unique()"
   ]
  },
  {
   "cell_type": "markdown",
   "metadata": {},
   "source": [
    "Finally, output average metrics to the respective files"
   ]
  },
  {
   "cell_type": "code",
   "execution_count": 12,
   "metadata": {},
   "outputs": [],
   "source": [
    "for location in summary[\"location\"].unique():\n",
    "    output_path = f\"../dashboard/output/unsmoothed/{location}\"\n",
    "    summary[summary[\"location\"] == location].to_csv(os.path.join(output_path, f\"{model_prefix}average_metrics.csv\"), index=False)"
   ]
  },
  {
   "cell_type": "code",
   "execution_count": 15,
   "metadata": {},
   "outputs": [],
   "source": [
    "summary.to_csv(os.path.join(\"../dashboard/output/unsmoothed/\", f\"{model_prefix}average_metrics.csv\"), index=False)"
   ]
  }
 ],
 "metadata": {
  "kernelspec": {
   "display_name": "Python 3",
   "language": "python",
   "name": "python3"
  },
  "language_info": {
   "codemirror_mode": {
    "name": "ipython",
    "version": 3
   },
   "file_extension": ".py",
   "mimetype": "text/x-python",
   "name": "python",
   "nbconvert_exporter": "python",
   "pygments_lexer": "ipython3",
   "version": "3.10.0"
  }
 },
 "nbformat": 4,
 "nbformat_minor": 2
}
