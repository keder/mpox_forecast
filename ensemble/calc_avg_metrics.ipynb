{
 "cells": [
  {
   "cell_type": "code",
   "execution_count": 10,
   "metadata": {},
   "outputs": [],
   "source": [
    "import os.path\n",
    "import os\n",
    "import re\n",
    "import pandas\n",
    "import numpy as np"
   ]
  },
  {
   "cell_type": "markdown",
   "metadata": {},
   "source": [
    "First we need to locate all relevant files"
   ]
  },
  {
   "cell_type": "code",
   "execution_count": 2,
   "metadata": {},
   "outputs": [],
   "source": [
    "input_path = '../ensemble/output'\n",
    "\n",
    "# Define the regex pattern to match filenames\n",
    "pattern = re.compile(r'^performance')\n",
    "\n",
    "# Initialize an empty list to store matched files\n",
    "matched_files = []\n",
    "\n",
    "# Iterate through files in the directory\n",
    "for filename in os.listdir(input_path):\n",
    "    # Check if the filename matches the regex pattern\n",
    "    if pattern.search(filename):\n",
    "        # If it matches, add to the list\n",
    "        matched_files.append(filename)"
   ]
  },
  {
   "cell_type": "code",
   "execution_count": 3,
   "metadata": {},
   "outputs": [
    {
     "name": "stdout",
     "output_type": "stream",
     "text": [
      "760\n",
      "['performance-forecasting-Ensemble-onsetfixed-0-flag1-1-method-0-dist-0-horizon-1-weight_type--1-weekly-mpox-cases-China-area-1-05-18-2023.csv', 'performance-forecasting-Ensemble-onsetfixed-0-flag1-1-method-0-dist-0-horizon-1-weight_type--1-weekly-mpox-cases-China-area-1-05-25-2023.csv', 'performance-forecasting-Ensemble-onsetfixed-0-flag1-1-method-0-dist-0-horizon-1-weight_type--1-weekly-mpox-cases-China-area-1-06-01-2023.csv', 'performance-forecasting-Ensemble-onsetfixed-0-flag1-1-method-0-dist-0-horizon-1-weight_type--1-weekly-mpox-cases-China-area-1-06-08-2023.csv', 'performance-forecasting-Ensemble-onsetfixed-0-flag1-1-method-0-dist-0-horizon-1-weight_type--1-weekly-mpox-cases-China-area-1-06-15-2023.csv']\n"
     ]
    }
   ],
   "source": [
    "print(len(matched_files))\n",
    "print(matched_files[:5])"
   ]
  },
  {
   "cell_type": "markdown",
   "metadata": {},
   "source": [
    "Now we accumulate data from files"
   ]
  },
  {
   "cell_type": "code",
   "execution_count": 4,
   "metadata": {},
   "outputs": [],
   "source": [
    "\n",
    "df = None\n",
    "model_no_col = \"mod_num\"\n",
    "model_prefix = \"SE-\"\n",
    "\n",
    "for file in matched_files:\n",
    "    split_fn = file.split(\".\")\n",
    "    name, extension = split_fn[0], split_fn[-1]\n",
    "    name_elems = name.split(\"-\")\n",
    "    model = name_elems[2]\n",
    "    horizon = name_elems[12]\n",
    "    location = name_elems[-6]\n",
    "    date = \"-\".join(name_elems[-3:])\n",
    "    data = pandas.read_csv(os.path.join(input_path, file))\n",
    "    data[\"model\"] = model_prefix + model\n",
    "    data[\"horizon\"] = horizon\n",
    "    data[\"date\"] = date\n",
    "    data[\"location\"] = location\n",
    "    data.columns.values[0] = model_no_col\n",
    "    if df is None:\n",
    "        df = data\n",
    "    else:\n",
    "        df = pandas.concat([df, data], ignore_index=True)"
   ]
  },
  {
   "cell_type": "code",
   "execution_count": 5,
   "metadata": {},
   "outputs": [
    {
     "data": {
      "text/html": [
       "<div>\n",
       "<style scoped>\n",
       "    .dataframe tbody tr th:only-of-type {\n",
       "        vertical-align: middle;\n",
       "    }\n",
       "\n",
       "    .dataframe tbody tr th {\n",
       "        vertical-align: top;\n",
       "    }\n",
       "\n",
       "    .dataframe thead th {\n",
       "        text-align: right;\n",
       "    }\n",
       "</style>\n",
       "<table border=\"1\" class=\"dataframe\">\n",
       "  <thead>\n",
       "    <tr style=\"text-align: right;\">\n",
       "      <th></th>\n",
       "      <th>mod_num</th>\n",
       "      <th>MAE</th>\n",
       "      <th>MSE</th>\n",
       "      <th>Coverage 95%PI</th>\n",
       "      <th>WIS</th>\n",
       "      <th>model</th>\n",
       "      <th>horizon</th>\n",
       "      <th>date</th>\n",
       "      <th>location</th>\n",
       "      <th>AICc</th>\n",
       "      <th>RelativeLikelihood</th>\n",
       "    </tr>\n",
       "  </thead>\n",
       "  <tbody>\n",
       "    <tr>\n",
       "      <th>0</th>\n",
       "      <td>2</td>\n",
       "      <td>0.011681</td>\n",
       "      <td>0.000136</td>\n",
       "      <td>100.0</td>\n",
       "      <td>1.616920</td>\n",
       "      <td>Ensemble</td>\n",
       "      <td>1</td>\n",
       "      <td>05-18-2023</td>\n",
       "      <td>China</td>\n",
       "      <td>NaN</td>\n",
       "      <td>NaN</td>\n",
       "    </tr>\n",
       "    <tr>\n",
       "      <th>1</th>\n",
       "      <td>3</td>\n",
       "      <td>0.327239</td>\n",
       "      <td>0.107085</td>\n",
       "      <td>100.0</td>\n",
       "      <td>1.698607</td>\n",
       "      <td>Ensemble</td>\n",
       "      <td>1</td>\n",
       "      <td>05-18-2023</td>\n",
       "      <td>China</td>\n",
       "      <td>NaN</td>\n",
       "      <td>NaN</td>\n",
       "    </tr>\n",
       "    <tr>\n",
       "      <th>2</th>\n",
       "      <td>4</td>\n",
       "      <td>0.407712</td>\n",
       "      <td>0.166229</td>\n",
       "      <td>100.0</td>\n",
       "      <td>1.731814</td>\n",
       "      <td>Ensemble</td>\n",
       "      <td>1</td>\n",
       "      <td>05-18-2023</td>\n",
       "      <td>China</td>\n",
       "      <td>NaN</td>\n",
       "      <td>NaN</td>\n",
       "    </tr>\n",
       "    <tr>\n",
       "      <th>3</th>\n",
       "      <td>2</td>\n",
       "      <td>26.887591</td>\n",
       "      <td>722.942544</td>\n",
       "      <td>0.0</td>\n",
       "      <td>22.720401</td>\n",
       "      <td>Ensemble</td>\n",
       "      <td>1</td>\n",
       "      <td>05-25-2023</td>\n",
       "      <td>China</td>\n",
       "      <td>NaN</td>\n",
       "      <td>NaN</td>\n",
       "    </tr>\n",
       "    <tr>\n",
       "      <th>4</th>\n",
       "      <td>3</td>\n",
       "      <td>27.136223</td>\n",
       "      <td>736.374584</td>\n",
       "      <td>0.0</td>\n",
       "      <td>22.689792</td>\n",
       "      <td>Ensemble</td>\n",
       "      <td>1</td>\n",
       "      <td>05-25-2023</td>\n",
       "      <td>China</td>\n",
       "      <td>NaN</td>\n",
       "      <td>NaN</td>\n",
       "    </tr>\n",
       "  </tbody>\n",
       "</table>\n",
       "</div>"
      ],
      "text/plain": [
       "   mod_num        MAE         MSE  Coverage 95%PI        WIS     model  \\\n",
       "0        2   0.011681    0.000136           100.0   1.616920  Ensemble   \n",
       "1        3   0.327239    0.107085           100.0   1.698607  Ensemble   \n",
       "2        4   0.407712    0.166229           100.0   1.731814  Ensemble   \n",
       "3        2  26.887591  722.942544             0.0  22.720401  Ensemble   \n",
       "4        3  27.136223  736.374584             0.0  22.689792  Ensemble   \n",
       "\n",
       "  horizon        date location  AICc  RelativeLikelihood  \n",
       "0       1  05-18-2023    China   NaN                 NaN  \n",
       "1       1  05-18-2023    China   NaN                 NaN  \n",
       "2       1  05-18-2023    China   NaN                 NaN  \n",
       "3       1  05-25-2023    China   NaN                 NaN  \n",
       "4       1  05-25-2023    China   NaN                 NaN  "
      ]
     },
     "execution_count": 5,
     "metadata": {},
     "output_type": "execute_result"
    }
   ],
   "source": [
    "df.head()"
   ]
  },
  {
   "cell_type": "code",
   "execution_count": 6,
   "metadata": {},
   "outputs": [
    {
     "data": {
      "text/html": [
       "<div>\n",
       "<style scoped>\n",
       "    .dataframe tbody tr th:only-of-type {\n",
       "        vertical-align: middle;\n",
       "    }\n",
       "\n",
       "    .dataframe tbody tr th {\n",
       "        vertical-align: top;\n",
       "    }\n",
       "\n",
       "    .dataframe thead th {\n",
       "        text-align: right;\n",
       "    }\n",
       "</style>\n",
       "<table border=\"1\" class=\"dataframe\">\n",
       "  <thead>\n",
       "    <tr style=\"text-align: right;\">\n",
       "      <th></th>\n",
       "      <th>mod_num</th>\n",
       "      <th>MAE</th>\n",
       "      <th>MSE</th>\n",
       "      <th>Coverage 95%PI</th>\n",
       "      <th>WIS</th>\n",
       "      <th>model</th>\n",
       "      <th>horizon</th>\n",
       "      <th>date</th>\n",
       "      <th>location</th>\n",
       "      <th>AICc</th>\n",
       "      <th>RelativeLikelihood</th>\n",
       "    </tr>\n",
       "  </thead>\n",
       "  <tbody>\n",
       "  </tbody>\n",
       "</table>\n",
       "</div>"
      ],
      "text/plain": [
       "Empty DataFrame\n",
       "Columns: [mod_num, MAE, MSE, Coverage 95%PI, WIS, model, horizon, date, location, AICc, RelativeLikelihood]\n",
       "Index: []"
      ]
     },
     "execution_count": 6,
     "metadata": {},
     "output_type": "execute_result"
    }
   ],
   "source": [
    "df[df[\"MAE\"]>1000]"
   ]
  },
  {
   "cell_type": "markdown",
   "metadata": {},
   "source": [
    "Now calculate averages for each model"
   ]
  },
  {
   "cell_type": "code",
   "execution_count": 13,
   "metadata": {},
   "outputs": [],
   "source": [
    "summary = df.groupby(['model', model_no_col, \"location\", \"horizon\"])[[\"MAE\", \"MSE\", \"Coverage 95%PI\", \"WIS\"]].mean().reset_index()\n",
    "summary[\"model\"] = summary.apply(lambda row: f\"{row['model']}({row['mod_num']})\", axis=1)\n",
    "summary = summary[['model', \"horizon\", \"location\", \"MSE\", \"MAE\", \"Coverage 95%PI\", \"WIS\"]]\n",
    "summary[\"WIS\"] = np.log10(summary[\"WIS\"])"
   ]
  },
  {
   "cell_type": "code",
   "execution_count": 14,
   "metadata": {},
   "outputs": [
    {
     "data": {
      "text/html": [
       "<div>\n",
       "<style scoped>\n",
       "    .dataframe tbody tr th:only-of-type {\n",
       "        vertical-align: middle;\n",
       "    }\n",
       "\n",
       "    .dataframe tbody tr th {\n",
       "        vertical-align: top;\n",
       "    }\n",
       "\n",
       "    .dataframe thead th {\n",
       "        text-align: right;\n",
       "    }\n",
       "</style>\n",
       "<table border=\"1\" class=\"dataframe\">\n",
       "  <thead>\n",
       "    <tr style=\"text-align: right;\">\n",
       "      <th></th>\n",
       "      <th>model</th>\n",
       "      <th>horizon</th>\n",
       "      <th>location</th>\n",
       "      <th>MSE</th>\n",
       "      <th>MAE</th>\n",
       "      <th>Coverage 95%PI</th>\n",
       "      <th>WIS</th>\n",
       "    </tr>\n",
       "  </thead>\n",
       "  <tbody>\n",
       "    <tr>\n",
       "      <th>0</th>\n",
       "      <td>SE-Ensemble(2)</td>\n",
       "      <td>1</td>\n",
       "      <td>China</td>\n",
       "      <td>216.615076</td>\n",
       "      <td>11.641045</td>\n",
       "      <td>90.322581</td>\n",
       "      <td>0.904907</td>\n",
       "    </tr>\n",
       "    <tr>\n",
       "      <th>1</th>\n",
       "      <td>SE-Ensemble(2)</td>\n",
       "      <td>2</td>\n",
       "      <td>China</td>\n",
       "      <td>463.107083</td>\n",
       "      <td>15.803686</td>\n",
       "      <td>86.666667</td>\n",
       "      <td>1.126823</td>\n",
       "    </tr>\n",
       "    <tr>\n",
       "      <th>2</th>\n",
       "      <td>SE-Ensemble(2)</td>\n",
       "      <td>3</td>\n",
       "      <td>China</td>\n",
       "      <td>784.606620</td>\n",
       "      <td>19.586708</td>\n",
       "      <td>83.908046</td>\n",
       "      <td>1.401289</td>\n",
       "    </tr>\n",
       "    <tr>\n",
       "      <th>3</th>\n",
       "      <td>SE-Ensemble(2)</td>\n",
       "      <td>4</td>\n",
       "      <td>China</td>\n",
       "      <td>1196.308427</td>\n",
       "      <td>23.646950</td>\n",
       "      <td>83.928571</td>\n",
       "      <td>1.798612</td>\n",
       "    </tr>\n",
       "    <tr>\n",
       "      <th>4</th>\n",
       "      <td>SE-Ensemble(2)</td>\n",
       "      <td>1</td>\n",
       "      <td>Japan</td>\n",
       "      <td>4.335076</td>\n",
       "      <td>1.398077</td>\n",
       "      <td>100.000000</td>\n",
       "      <td>-0.036839</td>\n",
       "    </tr>\n",
       "  </tbody>\n",
       "</table>\n",
       "</div>"
      ],
      "text/plain": [
       "            model horizon location          MSE        MAE  Coverage 95%PI  \\\n",
       "0  SE-Ensemble(2)       1    China   216.615076  11.641045       90.322581   \n",
       "1  SE-Ensemble(2)       2    China   463.107083  15.803686       86.666667   \n",
       "2  SE-Ensemble(2)       3    China   784.606620  19.586708       83.908046   \n",
       "3  SE-Ensemble(2)       4    China  1196.308427  23.646950       83.928571   \n",
       "4  SE-Ensemble(2)       1    Japan     4.335076   1.398077      100.000000   \n",
       "\n",
       "        WIS  \n",
       "0  0.904907  \n",
       "1  1.126823  \n",
       "2  1.401289  \n",
       "3  1.798612  \n",
       "4 -0.036839  "
      ]
     },
     "execution_count": 14,
     "metadata": {},
     "output_type": "execute_result"
    }
   ],
   "source": [
    "summary.head()"
   ]
  },
  {
   "cell_type": "markdown",
   "metadata": {},
   "source": [
    "Finally, output average metrics to the respective files"
   ]
  },
  {
   "cell_type": "code",
   "execution_count": 12,
   "metadata": {},
   "outputs": [],
   "source": [
    "for location in summary[\"location\"].unique():\n",
    "    output_path = f\"../dashboard/output/unsmoothed/{location}\"\n",
    "    summary[summary[\"location\"] == location].to_csv(os.path.join(output_path, f\"{model_prefix}average_metrics.csv\"), index=False)"
   ]
  },
  {
   "cell_type": "code",
   "execution_count": 6,
   "metadata": {},
   "outputs": [],
   "source": [
    "summary.to_csv(os.path.join(\"../dashboard/output/unsmoothed/\", f\"{model_prefix}average_metrics.csv\"), index=False)"
   ]
  }
 ],
 "metadata": {
  "kernelspec": {
   "display_name": "Python 3",
   "language": "python",
   "name": "python3"
  },
  "language_info": {
   "codemirror_mode": {
    "name": "ipython",
    "version": 3
   },
   "file_extension": ".py",
   "mimetype": "text/x-python",
   "name": "python",
   "nbconvert_exporter": "python",
   "pygments_lexer": "ipython3",
   "version": "3.9.7"
  }
 },
 "nbformat": 4,
 "nbformat_minor": 2
}
