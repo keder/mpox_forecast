{
 "cells": [
  {
   "cell_type": "code",
   "execution_count": 1,
   "metadata": {},
   "outputs": [],
   "source": [
    "import os.path\n",
    "import os\n",
    "import re\n",
    "import shutil\n",
    "import pandas"
   ]
  },
  {
   "cell_type": "code",
   "execution_count": 3,
   "metadata": {},
   "outputs": [],
   "source": [
    "input_path = '../ensemble/output'\n",
    "\n",
    "# Define the regex pattern to match filenames\n",
    "pattern = re.compile(r'^Ensemble')\n",
    "\n",
    "# Initialize an empty list to store matched files\n",
    "matched_files = []\n",
    "\n",
    "# Iterate through files in the directory\n",
    "for filename in os.listdir(input_path):\n",
    "    # Check if the filename matches the regex pattern\n",
    "    if pattern.search(filename):\n",
    "        # If it matches, add to the list\n",
    "        matched_files.append(filename)\n"
   ]
  },
  {
   "cell_type": "code",
   "execution_count": null,
   "metadata": {},
   "outputs": [],
   "source": [
    "print(len(matched_files))"
   ]
  },
  {
   "cell_type": "code",
   "execution_count": 5,
   "metadata": {},
   "outputs": [],
   "source": [
    "output_path = \"../dashboard/input\"\n",
    "\n",
    "for file in matched_files:\n",
    "    split_fn = file.split(\".\")\n",
    "    name, extension = split_fn[0], split_fn[-1]\n",
    "    name_elems = name.split(\"-\")\n",
    "    fw = \"ensemble\"\n",
    "    model = name_elems[0]\n",
    "    horizon = name_elems[10]\n",
    "    calibration = 48\n",
    "    location = name_elems[17]\n",
    "    date = \"-\".join(name_elems[-3:])\n",
    "    new_file_name = f\"{fw}-{model}-horizon-{horizon}-calibration-{calibration}-{location}-{date}.{extension}\"\n",
    "    # shutil.copyfile(os.path.join(directory, file), new_file_name)\n",
    "    data = pandas.read_csv(os.path.join(input_path, file))\n",
    "    data['Date'] = pandas.to_datetime(data[['year', 'month', 'day']])\n",
    "    data.drop(columns=['year', 'month', 'day'], inplace=True)\n",
    "    data = data[[\"Date\", \"data\", \"median\", \"LB\", \"UB\"]]\n",
    "    data.to_csv(os.path.join(output_path, new_file_name), index=False)\n",
    "    "
   ]
  }
 ],
 "metadata": {
  "kernelspec": {
   "display_name": "Python 3",
   "language": "python",
   "name": "python3"
  },
  "language_info": {
   "codemirror_mode": {
    "name": "ipython",
    "version": 3
   },
   "file_extension": ".py",
   "mimetype": "text/x-python",
   "name": "python",
   "nbconvert_exporter": "python",
   "pygments_lexer": "ipython3",
   "version": "3.10.0"
  }
 },
 "nbformat": 4,
 "nbformat_minor": 2
}
