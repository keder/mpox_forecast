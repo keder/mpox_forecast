{
 "cells": [
  {
   "cell_type": "code",
   "execution_count": 1,
   "metadata": {},
   "outputs": [],
   "source": [
    "import os\n",
    "import os.path\n",
    "import re\n",
    "import pandas as pd"
   ]
  },
  {
   "cell_type": "code",
   "execution_count": 13,
   "metadata": {},
   "outputs": [],
   "source": [
    "aggregate_path = \"./output/unsmoothed\"\n",
    "data_frames = []\n",
    "pattern = re.compile(r\"Average\\-Metrics\\-\")\n",
    "\n",
    "for root, dirs, files in os.walk(aggregate_path):\n",
    "    for file in files:\n",
    "        if pattern.match(file):\n",
    "            file_path = os.path.join(root, file)\n",
    "            df = pd.read_csv(file_path)\n",
    "            df = df.rename(columns=str.lower)\n",
    "            if \"horizon\" not in df.columns:\n",
    "                df[\"horizon\"] = root[-1]\n",
    "            df[\"horizon\"] = df[\"horizon\"].astype(int)\n",
    "            data_frames.append(df)\n",
    "\n",
    "# Concatenate all data frames into a single data frame\n",
    "combined_df = pd.concat(data_frames, ignore_index=True)\n"
   ]
  },
  {
   "cell_type": "code",
   "execution_count": 14,
   "metadata": {},
   "outputs": [
    {
     "data": {
      "text/html": [
       "<div>\n",
       "<style scoped>\n",
       "    .dataframe tbody tr th:only-of-type {\n",
       "        vertical-align: middle;\n",
       "    }\n",
       "\n",
       "    .dataframe tbody tr th {\n",
       "        vertical-align: top;\n",
       "    }\n",
       "\n",
       "    .dataframe thead th {\n",
       "        text-align: right;\n",
       "    }\n",
       "</style>\n",
       "<table border=\"1\" class=\"dataframe\">\n",
       "  <thead>\n",
       "    <tr style=\"text-align: right;\">\n",
       "      <th></th>\n",
       "      <th>model</th>\n",
       "      <th>horizon</th>\n",
       "      <th>location</th>\n",
       "      <th>mse</th>\n",
       "      <th>mae</th>\n",
       "      <th>x95.pi</th>\n",
       "      <th>wis</th>\n",
       "    </tr>\n",
       "  </thead>\n",
       "  <tbody>\n",
       "    <tr>\n",
       "      <th>0</th>\n",
       "      <td>ARIMA</td>\n",
       "      <td>1</td>\n",
       "      <td>China</td>\n",
       "      <td>197.73</td>\n",
       "      <td>10.73</td>\n",
       "      <td>87.50</td>\n",
       "      <td>6.94</td>\n",
       "    </tr>\n",
       "    <tr>\n",
       "      <th>1</th>\n",
       "      <td>GAM</td>\n",
       "      <td>1</td>\n",
       "      <td>China</td>\n",
       "      <td>268.73</td>\n",
       "      <td>12.50</td>\n",
       "      <td>71.88</td>\n",
       "      <td>8.62</td>\n",
       "    </tr>\n",
       "    <tr>\n",
       "      <th>2</th>\n",
       "      <td>GLM</td>\n",
       "      <td>1</td>\n",
       "      <td>China</td>\n",
       "      <td>728.85</td>\n",
       "      <td>21.19</td>\n",
       "      <td>34.38</td>\n",
       "      <td>16.83</td>\n",
       "    </tr>\n",
       "    <tr>\n",
       "      <th>3</th>\n",
       "      <td>Prophet</td>\n",
       "      <td>1</td>\n",
       "      <td>China</td>\n",
       "      <td>726.05</td>\n",
       "      <td>21.17</td>\n",
       "      <td>59.38</td>\n",
       "      <td>15.12</td>\n",
       "    </tr>\n",
       "    <tr>\n",
       "      <th>4</th>\n",
       "      <td>ARIMA</td>\n",
       "      <td>2</td>\n",
       "      <td>China</td>\n",
       "      <td>412.30</td>\n",
       "      <td>15.06</td>\n",
       "      <td>82.26</td>\n",
       "      <td>9.92</td>\n",
       "    </tr>\n",
       "  </tbody>\n",
       "</table>\n",
       "</div>"
      ],
      "text/plain": [
       "     model  horizon location     mse    mae  x95.pi    wis\n",
       "0    ARIMA        1    China  197.73  10.73   87.50   6.94\n",
       "1      GAM        1    China  268.73  12.50   71.88   8.62\n",
       "2      GLM        1    China  728.85  21.19   34.38  16.83\n",
       "3  Prophet        1    China  726.05  21.17   59.38  15.12\n",
       "4    ARIMA        2    China  412.30  15.06   82.26   9.92"
      ]
     },
     "execution_count": 14,
     "metadata": {},
     "output_type": "execute_result"
    }
   ],
   "source": [
    "combined_df.head()"
   ]
  },
  {
   "cell_type": "code",
   "execution_count": 15,
   "metadata": {},
   "outputs": [],
   "source": [
    "combined_df.to_csv(os.path.join(aggregate_path, \"dashboard_metrics.csv\"), index=False)"
   ]
  }
 ],
 "metadata": {
  "kernelspec": {
   "display_name": "Python 3",
   "language": "python",
   "name": "python3"
  },
  "language_info": {
   "codemirror_mode": {
    "name": "ipython",
    "version": 3
   },
   "file_extension": ".py",
   "mimetype": "text/x-python",
   "name": "python",
   "nbconvert_exporter": "python",
   "pygments_lexer": "ipython3",
   "version": "3.10.0"
  }
 },
 "nbformat": 4,
 "nbformat_minor": 2
}
